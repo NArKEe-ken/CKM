{
 "cells": [
  {
   "cell_type": "code",
   "execution_count": 8,
   "metadata": {},
   "outputs": [],
   "source": [
    "import matplotlib.pyplot as plt \n",
    "import numpy as np\n",
    "from scipy import optimize\n",
    "from scipy.special import lambertw"
   ]
  },
  {
   "cell_type": "markdown",
   "metadata": {},
   "source": [
    "# 39.Уравнение \n",
    "$2^x = x^2$\n",
    "Уравнение $2^x = x^2$ имеет $3$ вещественных решения.\n",
    "\n",
    "Постройте графики функций $y=2^x$ и $y = x^2$ и убедитесь, что они пересекаются в 3 точках.\n",
    "Найдите все 3 решения с помощью функции scipy.optimize.brentq. Можете воспользоваться другим методом. Обоснуйте свой выбор.\n",
    "Выразите решения уравнения через функцию Ламберта (см. № 38). Найдите все три решения с помощью функции scipy.special.lambertw. Вам придется работать с комплексными значениями этой функции, чтобы получить вещественные корни исходного уравнения.\n",
    "Сравните все подходы и сделайте выводы."
   ]
  },
  {
   "cell_type": "markdown",
   "metadata": {},
   "source": [
    "я ничего не делал. это все грибы."
   ]
  },
  {
   "cell_type": "markdown",
   "metadata": {},
   "source": [
    "Пишем функцию и находим решения нашего уравненияю Получилось 3 точки удовлетворяющие нашему условию."
   ]
  },
  {
   "cell_type": "code",
   "execution_count": 6,
   "metadata": {},
   "outputs": [
    {
     "name": "stdout",
     "output_type": "stream",
     "text": [
      "-0.7666646959621225\n",
      "2.0000000000000004\n",
      "4.0\n"
     ]
    }
   ],
   "source": [
    "def f1(x):\n",
    "    return x * x\n",
    "\n",
    "def f2(x):\n",
    "    return 2**x\n",
    "\n",
    "print(optimize.brentq(lambda x: f1(x)-f2(x), -2, 0))\n",
    "print(optimize.brentq(lambda x: f1(x)-f2(x), 0, 3)) \n",
    "print(optimize.brentq(lambda x: f1(x)-f2(x), 3, 5))"
   ]
  },
  {
   "cell_type": "markdown",
   "metadata": {},
   "source": [
    "Строю график функции X^2 и 2^x. на диаграмме видно, что данные функции пересекаются в 3 точках. Выше мы вычеслили значения при х, в которых будут наши решения уравнения."
   ]
  },
  {
   "cell_type": "code",
   "execution_count": 7,
   "metadata": {},
   "outputs": [
    {
     "data": {
      "text/plain": [
       "[<matplotlib.lines.Line2D at 0x1d52630cac0>]"
      ]
     },
     "execution_count": 7,
     "metadata": {},
     "output_type": "execute_result"
    },
    {
     "data": {
      "image/png": "[encoded data removed]",
      "text/plain": [
       "<Figure size 432x288 with 1 Axes>"
      ]
     },
     "metadata": {
      "needs_background": "light"
     },
     "output_type": "display_data"
    }
   ],
   "source": [
    "lag = 0.1 \n",
    "x = np.arange(-2.0, 5, lag)\n",
    "y = x * x\n",
    "\n",
    "x1 = np.arange(-2.0, 5, lag) \n",
    "y1 = 2**x\n",
    "\n",
    "fig = plt.figure()\n",
    "plt.plot(x, y) \n",
    "plt.plot(x1, y1)"
   ]
  },
  {
   "cell_type": "code",
   "execution_count": 28,
   "metadata": {},
   "outputs": [
    {
     "data": {
      "text/plain": [
       "((0.8526055020137256+0j),\n",
       " (1.2021678731970429+0j),\n",
       " (-0.5023202102883744+1.1631178992947517j))"
      ]
     },
     "execution_count": 28,
     "metadata": {},
     "output_type": "execute_result"
    }
   ],
   "source": [
    "lambertw(optimize.brentq(lambda x: f1(x)-f2(x), 0, 3),k=0), lambertw(optimize.brentq(lambda x: f1(x)-f2(x), 3, 5), k=0), lambertw(optimize.brentq(lambda x: f1(x)-f2(x), -2, 0), k=0)"
   ]
  },
  {
   "cell_type": "markdown",
   "metadata": {},
   "source": [
    "Здравствйте, я немного не разобрался с функцией Ламберта,Я более 2 месяцев пытался понять и никак не мог скинуть вам работу, выкладываю без последнего пункта. "
   ]
  },
  {
   "cell_type": "code",
   "execution_count": null,
   "metadata": {},
   "outputs": [],
   "source": []
  },
  {
   "cell_type": "markdown",
   "metadata": {},
   "source": []
  }
 ],
 "metadata": {
  "kernelspec": {
   "display_name": "Python 3",
   "language": "python",
   "name": "python3"
  },
  "language_info": {
   "codemirror_mode": {
    "name": "ipython",
    "version": 3
   },
   "file_extension": ".py",
   "mimetype": "text/x-python",
   "name": "python",
   "nbconvert_exporter": "python",
   "pygments_lexer": "ipython3",
   "version": "3.8.5"
  }
 },
 "nbformat": 4,
 "nbformat_minor": 4
}
